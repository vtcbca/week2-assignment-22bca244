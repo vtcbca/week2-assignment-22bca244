{
 "cells": [
  {
   "cell_type": "markdown",
   "id": "f07ccad7",
   "metadata": {},
   "source": [
    "# 1.CREATE TABLE"
   ]
  },
  {
   "cell_type": "code",
   "execution_count": 1,
   "id": "a2baf47d",
   "metadata": {},
   "outputs": [],
   "source": [
    "import sqlite3"
   ]
  },
  {
   "cell_type": "code",
   "execution_count": 9,
   "id": "7a45067d",
   "metadata": {},
   "outputs": [],
   "source": [
    "conn=sqlite3.connect('ESM1.db')"
   ]
  },
  {
   "cell_type": "code",
   "execution_count": 10,
   "id": "625c8d18",
   "metadata": {},
   "outputs": [],
   "source": [
    "create=\"create table IF NOT EXISTS employee6(Eid int PRIMARY KEY,Name text,Dept text,Basic int,Branch test)\""
   ]
  },
  {
   "cell_type": "code",
   "execution_count": 11,
   "id": "0b5e5f2e",
   "metadata": {},
   "outputs": [],
   "source": [
    "cur=conn.cursor()"
   ]
  },
  {
   "cell_type": "code",
   "execution_count": 12,
   "id": "747d14c3",
   "metadata": {},
   "outputs": [
    {
     "data": {
      "text/plain": [
       "<sqlite3.Cursor at 0x2ad50e008c0>"
      ]
     },
     "execution_count": 12,
     "metadata": {},
     "output_type": "execute_result"
    }
   ],
   "source": [
    "cur.execute(create)"
   ]
  },
  {
   "cell_type": "code",
   "execution_count": 13,
   "id": "d9ff4e76",
   "metadata": {},
   "outputs": [],
   "source": [
    "conn.commit()"
   ]
  },
  {
   "cell_type": "markdown",
   "id": "0b1f1b9d",
   "metadata": {},
   "source": [
    "# 2.INSERT FIVE RECORDS"
   ]
  },
  {
   "cell_type": "markdown",
   "id": "4f2fbba1",
   "metadata": {},
   "source": [
    "  INSERT FIVE RECORDS DIRECTLY"
   ]
  },
  {
   "cell_type": "code",
   "execution_count": 14,
   "id": "b8c2a848",
   "metadata": {},
   "outputs": [],
   "source": [
    "in1=\"insert into employee6 values(1,'keshav','it',6000,'surat'),(2,'madhav','account',4000,'bardoli'),(3,'krish','hr',6200,'bombay'),(4,'krishna','inventory',7000,'chennai'),(5,'radha','it',5600,'ahemdabad')\""
   ]
  },
  {
   "cell_type": "code",
   "execution_count": 15,
   "id": "0e9664f6",
   "metadata": {},
   "outputs": [
    {
     "data": {
      "text/plain": [
       "<sqlite3.Cursor at 0x2ad50e008c0>"
      ]
     },
     "execution_count": 15,
     "metadata": {},
     "output_type": "execute_result"
    }
   ],
   "source": [
    "cur.execute(in1)"
   ]
  },
  {
   "cell_type": "markdown",
   "id": "80d6d2f8",
   "metadata": {},
   "source": [
    "  INSERT RECORD USING TUPLE"
   ]
  },
  {
   "cell_type": "code",
   "execution_count": 16,
   "id": "0760c69b",
   "metadata": {},
   "outputs": [],
   "source": [
    "in2=\"insert into employee6 values(?,?,?,?,?)\""
   ]
  },
  {
   "cell_type": "code",
   "execution_count": 17,
   "id": "8bd2397c",
   "metadata": {},
   "outputs": [],
   "source": [
    "t=[(6,'kunj','hr',9000,'navsari'),(7,'radha','it',11000,'delhi'),(8,'kunj','hr',9000,'navsari'),(9,'prathna','inventory',9900,'bilimora'),(10,'gopi','account',4000,'vapi')]"
   ]
  },
  {
   "cell_type": "code",
   "execution_count": 18,
   "id": "12b4bc76",
   "metadata": {},
   "outputs": [],
   "source": [
    "cur=conn.cursor()"
   ]
  },
  {
   "cell_type": "code",
   "execution_count": 19,
   "id": "d86c6c43",
   "metadata": {},
   "outputs": [
    {
     "data": {
      "text/plain": [
       "<sqlite3.Cursor at 0x2ad5101e940>"
      ]
     },
     "execution_count": 19,
     "metadata": {},
     "output_type": "execute_result"
    }
   ],
   "source": [
    "cur.executemany(in2,t)"
   ]
  },
  {
   "cell_type": "markdown",
   "id": "588dd444",
   "metadata": {},
   "source": [
    "INSERT RECORD USING TAKING INPUT FROM USER"
   ]
  },
  {
   "cell_type": "code",
   "execution_count": 20,
   "id": "53d2c476",
   "metadata": {},
   "outputs": [],
   "source": [
    "in3=\"insert into employee6 values(?,?,?,?,?)\""
   ]
  },
  {
   "cell_type": "code",
   "execution_count": 25,
   "id": "ef36021f",
   "metadata": {},
   "outputs": [],
   "source": [
    "l=[]\n"
   ]
  },
  {
   "cell_type": "code",
   "execution_count": 27,
   "id": "3f22784a",
   "metadata": {},
   "outputs": [
    {
     "name": "stdout",
     "output_type": "stream",
     "text": [
      "enter id:11\n",
      "enter name:jamna\n",
      "enter dep:hr\n",
      "enter salary:5000\n",
      "enter branch:bharuch\n",
      "enter id:12\n",
      "enter name:kisha\n",
      "enter dep:account\n",
      "enter salary:3900\n",
      "enter branch:ahemdabad\n",
      "enter id:13\n",
      "enter name:lila\n",
      "enter dep:hr\n",
      "enter salary:11000\n",
      "enter branch:vadodra\n",
      "enter id:14\n",
      "enter name:jal\n",
      "enter dep:it\n",
      "enter salary:7800\n",
      "enter branch:vapi\n",
      "enter id:15\n",
      "enter name:kinjal\n",
      "enter dep:it\n",
      "enter salary:20000\n",
      "enter branch:surat\n"
     ]
    }
   ],
   "source": [
    "for i in range(5):\n",
    "    n=int(input(\"enter id:\"))\n",
    "    nm=input(\"enter name:\")\n",
    "    d=input(\"enter dep:\")\n",
    "    s=int(input(\"enter salary:\"))\n",
    "    b=input(\"enter branch:\")\n",
    "    t2=(n,nm,d,s,b)\n",
    "    l.append(t2)"
   ]
  },
  {
   "cell_type": "code",
   "execution_count": 28,
   "id": "331090ad",
   "metadata": {},
   "outputs": [
    {
     "data": {
      "text/plain": [
       "<sqlite3.Cursor at 0x2ad5101e940>"
      ]
     },
     "execution_count": 28,
     "metadata": {},
     "output_type": "execute_result"
    }
   ],
   "source": [
    "cur.executemany(in3,l)"
   ]
  },
  {
   "cell_type": "code",
   "execution_count": 33,
   "id": "0f46354f",
   "metadata": {},
   "outputs": [],
   "source": [
    "conn.commit()"
   ]
  },
  {
   "cell_type": "markdown",
   "id": "2ff0c2a4",
   "metadata": {},
   "source": [
    "# 3.UPDATE RECORDS WHO ARE FROME \"SURAT\" BRANCH INCREMENT IN SALARY 10%."
   ]
  },
  {
   "cell_type": "code",
   "execution_count": 55,
   "id": "89d5928f",
   "metadata": {},
   "outputs": [],
   "source": [
    "d1=\"update employee6 set basic=basic+(basic*10\\100) where branch='surat'\""
   ]
  },
  {
   "cell_type": "code",
   "execution_count": 56,
   "id": "533f87f9",
   "metadata": {},
   "outputs": [],
   "source": [
    "cur=conn.cursor()"
   ]
  },
  {
   "cell_type": "code",
   "execution_count": 57,
   "id": "d1ce24a6",
   "metadata": {},
   "outputs": [
    {
     "ename": "OperationalError",
     "evalue": "unrecognized token: \"@\"",
     "output_type": "error",
     "traceback": [
      "\u001b[1;31m---------------------------------------------------------------------------\u001b[0m",
      "\u001b[1;31mOperationalError\u001b[0m                          Traceback (most recent call last)",
      "Cell \u001b[1;32mIn[57], line 1\u001b[0m\n\u001b[1;32m----> 1\u001b[0m \u001b[43mcur\u001b[49m\u001b[38;5;241;43m.\u001b[39;49m\u001b[43mexecute\u001b[49m\u001b[43m(\u001b[49m\u001b[43md1\u001b[49m\u001b[43m)\u001b[49m\n",
      "\u001b[1;31mOperationalError\u001b[0m: unrecognized token: \"@\""
     ]
    }
   ],
   "source": [
    "cur.execute(d1)"
   ]
  },
  {
   "cell_type": "code",
   "execution_count": 59,
   "id": "90fa6a80",
   "metadata": {},
   "outputs": [],
   "source": [
    "conn.commit()"
   ]
  },
  {
   "cell_type": "markdown",
   "id": "2b1dd179",
   "metadata": {},
   "source": [
    "# 4.PRINT ALL RECORDS"
   ]
  },
  {
   "cell_type": "code",
   "execution_count": 60,
   "id": "fb3b5720",
   "metadata": {},
   "outputs": [],
   "source": [
    "S=\"select * from employee6\""
   ]
  },
  {
   "cell_type": "code",
   "execution_count": 62,
   "id": "436081b0",
   "metadata": {},
   "outputs": [
    {
     "data": {
      "text/plain": [
       "<sqlite3.Cursor at 0x2ad51411ac0>"
      ]
     },
     "execution_count": 62,
     "metadata": {},
     "output_type": "execute_result"
    }
   ],
   "source": [
    "cur.execute(S)"
   ]
  },
  {
   "cell_type": "code",
   "execution_count": 63,
   "id": "b0a4c6e6",
   "metadata": {},
   "outputs": [],
   "source": [
    "import pandas as pd"
   ]
  },
  {
   "cell_type": "code",
   "execution_count": 66,
   "id": "a4de1087",
   "metadata": {},
   "outputs": [
    {
     "data": {
      "text/html": [
       "<div>\n",
       "<style scoped>\n",
       "    .dataframe tbody tr th:only-of-type {\n",
       "        vertical-align: middle;\n",
       "    }\n",
       "\n",
       "    .dataframe tbody tr th {\n",
       "        vertical-align: top;\n",
       "    }\n",
       "\n",
       "    .dataframe thead th {\n",
       "        text-align: right;\n",
       "    }\n",
       "</style>\n",
       "<table border=\"1\" class=\"dataframe\">\n",
       "  <thead>\n",
       "    <tr style=\"text-align: right;\">\n",
       "      <th></th>\n",
       "      <th>0</th>\n",
       "      <th>1</th>\n",
       "      <th>2</th>\n",
       "      <th>3</th>\n",
       "      <th>4</th>\n",
       "    </tr>\n",
       "  </thead>\n",
       "  <tbody>\n",
       "    <tr>\n",
       "      <th>0</th>\n",
       "      <td>1</td>\n",
       "      <td>keshav</td>\n",
       "      <td>it</td>\n",
       "      <td>6000</td>\n",
       "      <td>surat</td>\n",
       "    </tr>\n",
       "    <tr>\n",
       "      <th>1</th>\n",
       "      <td>2</td>\n",
       "      <td>madhav</td>\n",
       "      <td>account</td>\n",
       "      <td>4000</td>\n",
       "      <td>bardoli</td>\n",
       "    </tr>\n",
       "    <tr>\n",
       "      <th>2</th>\n",
       "      <td>3</td>\n",
       "      <td>krish</td>\n",
       "      <td>hr</td>\n",
       "      <td>6200</td>\n",
       "      <td>bombay</td>\n",
       "    </tr>\n",
       "    <tr>\n",
       "      <th>3</th>\n",
       "      <td>4</td>\n",
       "      <td>krishna</td>\n",
       "      <td>inventory</td>\n",
       "      <td>7000</td>\n",
       "      <td>chennai</td>\n",
       "    </tr>\n",
       "    <tr>\n",
       "      <th>4</th>\n",
       "      <td>5</td>\n",
       "      <td>radha</td>\n",
       "      <td>it</td>\n",
       "      <td>5600</td>\n",
       "      <td>ahemdabad</td>\n",
       "    </tr>\n",
       "    <tr>\n",
       "      <th>5</th>\n",
       "      <td>6</td>\n",
       "      <td>kunj</td>\n",
       "      <td>hr</td>\n",
       "      <td>9000</td>\n",
       "      <td>navsari</td>\n",
       "    </tr>\n",
       "    <tr>\n",
       "      <th>6</th>\n",
       "      <td>7</td>\n",
       "      <td>radha</td>\n",
       "      <td>it</td>\n",
       "      <td>11000</td>\n",
       "      <td>delhi</td>\n",
       "    </tr>\n",
       "    <tr>\n",
       "      <th>7</th>\n",
       "      <td>8</td>\n",
       "      <td>kunj</td>\n",
       "      <td>hr</td>\n",
       "      <td>9000</td>\n",
       "      <td>navsari</td>\n",
       "    </tr>\n",
       "    <tr>\n",
       "      <th>8</th>\n",
       "      <td>9</td>\n",
       "      <td>prathna</td>\n",
       "      <td>inventory</td>\n",
       "      <td>9900</td>\n",
       "      <td>bilimora</td>\n",
       "    </tr>\n",
       "    <tr>\n",
       "      <th>9</th>\n",
       "      <td>10</td>\n",
       "      <td>gopi</td>\n",
       "      <td>account</td>\n",
       "      <td>4000</td>\n",
       "      <td>vapi</td>\n",
       "    </tr>\n",
       "    <tr>\n",
       "      <th>10</th>\n",
       "      <td>11</td>\n",
       "      <td>jamna</td>\n",
       "      <td>hr</td>\n",
       "      <td>5000</td>\n",
       "      <td>bharuch</td>\n",
       "    </tr>\n",
       "    <tr>\n",
       "      <th>11</th>\n",
       "      <td>12</td>\n",
       "      <td>kisha</td>\n",
       "      <td>account</td>\n",
       "      <td>3900</td>\n",
       "      <td>ahemdabad</td>\n",
       "    </tr>\n",
       "    <tr>\n",
       "      <th>12</th>\n",
       "      <td>13</td>\n",
       "      <td>lila</td>\n",
       "      <td>hr</td>\n",
       "      <td>11000</td>\n",
       "      <td>vadodra</td>\n",
       "    </tr>\n",
       "    <tr>\n",
       "      <th>13</th>\n",
       "      <td>14</td>\n",
       "      <td>jal</td>\n",
       "      <td>it</td>\n",
       "      <td>7800</td>\n",
       "      <td>vapi</td>\n",
       "    </tr>\n",
       "    <tr>\n",
       "      <th>14</th>\n",
       "      <td>15</td>\n",
       "      <td>kinjal</td>\n",
       "      <td>it</td>\n",
       "      <td>20000</td>\n",
       "      <td>surat</td>\n",
       "    </tr>\n",
       "  </tbody>\n",
       "</table>\n",
       "</div>"
      ],
      "text/plain": [
       "     0        1          2      3          4\n",
       "0    1   keshav         it   6000      surat\n",
       "1    2   madhav    account   4000    bardoli\n",
       "2    3    krish         hr   6200     bombay\n",
       "3    4  krishna  inventory   7000    chennai\n",
       "4    5    radha         it   5600  ahemdabad\n",
       "5    6     kunj         hr   9000    navsari\n",
       "6    7    radha         it  11000      delhi\n",
       "7    8     kunj         hr   9000    navsari\n",
       "8    9  prathna  inventory   9900   bilimora\n",
       "9   10     gopi    account   4000       vapi\n",
       "10  11    jamna         hr   5000    bharuch\n",
       "11  12    kisha    account   3900  ahemdabad\n",
       "12  13     lila         hr  11000    vadodra\n",
       "13  14      jal         it   7800       vapi\n",
       "14  15   kinjal         it  20000      surat"
      ]
     },
     "execution_count": 66,
     "metadata": {},
     "output_type": "execute_result"
    }
   ],
   "source": [
    "pd.DataFrame(cur.fetchall())"
   ]
  },
  {
   "cell_type": "code",
   "execution_count": 69,
   "id": "fe6c102d",
   "metadata": {},
   "outputs": [],
   "source": [
    "q1=\"select * from employee6 where dept in('hr','it') \""
   ]
  },
  {
   "cell_type": "code",
   "execution_count": 70,
   "id": "b4f35add",
   "metadata": {},
   "outputs": [
    {
     "data": {
      "text/plain": [
       "<sqlite3.Cursor at 0x2ad51411ac0>"
      ]
     },
     "execution_count": 70,
     "metadata": {},
     "output_type": "execute_result"
    }
   ],
   "source": [
    "cur.execute(q1)"
   ]
  },
  {
   "cell_type": "code",
   "execution_count": 71,
   "id": "ba9aef86",
   "metadata": {},
   "outputs": [
    {
     "data": {
      "text/html": [
       "<div>\n",
       "<style scoped>\n",
       "    .dataframe tbody tr th:only-of-type {\n",
       "        vertical-align: middle;\n",
       "    }\n",
       "\n",
       "    .dataframe tbody tr th {\n",
       "        vertical-align: top;\n",
       "    }\n",
       "\n",
       "    .dataframe thead th {\n",
       "        text-align: right;\n",
       "    }\n",
       "</style>\n",
       "<table border=\"1\" class=\"dataframe\">\n",
       "  <thead>\n",
       "    <tr style=\"text-align: right;\">\n",
       "      <th></th>\n",
       "      <th>0</th>\n",
       "      <th>1</th>\n",
       "      <th>2</th>\n",
       "      <th>3</th>\n",
       "      <th>4</th>\n",
       "    </tr>\n",
       "  </thead>\n",
       "  <tbody>\n",
       "    <tr>\n",
       "      <th>0</th>\n",
       "      <td>1</td>\n",
       "      <td>keshav</td>\n",
       "      <td>it</td>\n",
       "      <td>6000</td>\n",
       "      <td>surat</td>\n",
       "    </tr>\n",
       "    <tr>\n",
       "      <th>1</th>\n",
       "      <td>3</td>\n",
       "      <td>krish</td>\n",
       "      <td>hr</td>\n",
       "      <td>6200</td>\n",
       "      <td>bombay</td>\n",
       "    </tr>\n",
       "    <tr>\n",
       "      <th>2</th>\n",
       "      <td>5</td>\n",
       "      <td>radha</td>\n",
       "      <td>it</td>\n",
       "      <td>5600</td>\n",
       "      <td>ahemdabad</td>\n",
       "    </tr>\n",
       "    <tr>\n",
       "      <th>3</th>\n",
       "      <td>6</td>\n",
       "      <td>kunj</td>\n",
       "      <td>hr</td>\n",
       "      <td>9000</td>\n",
       "      <td>navsari</td>\n",
       "    </tr>\n",
       "    <tr>\n",
       "      <th>4</th>\n",
       "      <td>7</td>\n",
       "      <td>radha</td>\n",
       "      <td>it</td>\n",
       "      <td>11000</td>\n",
       "      <td>delhi</td>\n",
       "    </tr>\n",
       "    <tr>\n",
       "      <th>5</th>\n",
       "      <td>8</td>\n",
       "      <td>kunj</td>\n",
       "      <td>hr</td>\n",
       "      <td>9000</td>\n",
       "      <td>navsari</td>\n",
       "    </tr>\n",
       "    <tr>\n",
       "      <th>6</th>\n",
       "      <td>11</td>\n",
       "      <td>jamna</td>\n",
       "      <td>hr</td>\n",
       "      <td>5000</td>\n",
       "      <td>bharuch</td>\n",
       "    </tr>\n",
       "    <tr>\n",
       "      <th>7</th>\n",
       "      <td>13</td>\n",
       "      <td>lila</td>\n",
       "      <td>hr</td>\n",
       "      <td>11000</td>\n",
       "      <td>vadodra</td>\n",
       "    </tr>\n",
       "    <tr>\n",
       "      <th>8</th>\n",
       "      <td>14</td>\n",
       "      <td>jal</td>\n",
       "      <td>it</td>\n",
       "      <td>7800</td>\n",
       "      <td>vapi</td>\n",
       "    </tr>\n",
       "    <tr>\n",
       "      <th>9</th>\n",
       "      <td>15</td>\n",
       "      <td>kinjal</td>\n",
       "      <td>it</td>\n",
       "      <td>20000</td>\n",
       "      <td>surat</td>\n",
       "    </tr>\n",
       "  </tbody>\n",
       "</table>\n",
       "</div>"
      ],
      "text/plain": [
       "    0       1   2      3          4\n",
       "0   1  keshav  it   6000      surat\n",
       "1   3   krish  hr   6200     bombay\n",
       "2   5   radha  it   5600  ahemdabad\n",
       "3   6    kunj  hr   9000    navsari\n",
       "4   7   radha  it  11000      delhi\n",
       "5   8    kunj  hr   9000    navsari\n",
       "6  11   jamna  hr   5000    bharuch\n",
       "7  13    lila  hr  11000    vadodra\n",
       "8  14     jal  it   7800       vapi\n",
       "9  15  kinjal  it  20000      surat"
      ]
     },
     "execution_count": 71,
     "metadata": {},
     "output_type": "execute_result"
    }
   ],
   "source": [
    "pd.DataFrame(cur.fetchall())"
   ]
  },
  {
   "cell_type": "code",
   "execution_count": 72,
   "id": "c674be59",
   "metadata": {},
   "outputs": [],
   "source": [
    "q2=\"select * from employee6 order by dept\""
   ]
  },
  {
   "cell_type": "code",
   "execution_count": 73,
   "id": "ef1afd2f",
   "metadata": {},
   "outputs": [
    {
     "data": {
      "text/plain": [
       "<sqlite3.Cursor at 0x2ad51411ac0>"
      ]
     },
     "execution_count": 73,
     "metadata": {},
     "output_type": "execute_result"
    }
   ],
   "source": [
    "cur.execute(q2)"
   ]
  },
  {
   "cell_type": "code",
   "execution_count": 74,
   "id": "e17767e1",
   "metadata": {},
   "outputs": [
    {
     "data": {
      "text/html": [
       "<div>\n",
       "<style scoped>\n",
       "    .dataframe tbody tr th:only-of-type {\n",
       "        vertical-align: middle;\n",
       "    }\n",
       "\n",
       "    .dataframe tbody tr th {\n",
       "        vertical-align: top;\n",
       "    }\n",
       "\n",
       "    .dataframe thead th {\n",
       "        text-align: right;\n",
       "    }\n",
       "</style>\n",
       "<table border=\"1\" class=\"dataframe\">\n",
       "  <thead>\n",
       "    <tr style=\"text-align: right;\">\n",
       "      <th></th>\n",
       "      <th>0</th>\n",
       "      <th>1</th>\n",
       "      <th>2</th>\n",
       "      <th>3</th>\n",
       "      <th>4</th>\n",
       "    </tr>\n",
       "  </thead>\n",
       "  <tbody>\n",
       "    <tr>\n",
       "      <th>0</th>\n",
       "      <td>2</td>\n",
       "      <td>madhav</td>\n",
       "      <td>account</td>\n",
       "      <td>4000</td>\n",
       "      <td>bardoli</td>\n",
       "    </tr>\n",
       "    <tr>\n",
       "      <th>1</th>\n",
       "      <td>10</td>\n",
       "      <td>gopi</td>\n",
       "      <td>account</td>\n",
       "      <td>4000</td>\n",
       "      <td>vapi</td>\n",
       "    </tr>\n",
       "    <tr>\n",
       "      <th>2</th>\n",
       "      <td>12</td>\n",
       "      <td>kisha</td>\n",
       "      <td>account</td>\n",
       "      <td>3900</td>\n",
       "      <td>ahemdabad</td>\n",
       "    </tr>\n",
       "    <tr>\n",
       "      <th>3</th>\n",
       "      <td>3</td>\n",
       "      <td>krish</td>\n",
       "      <td>hr</td>\n",
       "      <td>6200</td>\n",
       "      <td>bombay</td>\n",
       "    </tr>\n",
       "    <tr>\n",
       "      <th>4</th>\n",
       "      <td>6</td>\n",
       "      <td>kunj</td>\n",
       "      <td>hr</td>\n",
       "      <td>9000</td>\n",
       "      <td>navsari</td>\n",
       "    </tr>\n",
       "    <tr>\n",
       "      <th>5</th>\n",
       "      <td>8</td>\n",
       "      <td>kunj</td>\n",
       "      <td>hr</td>\n",
       "      <td>9000</td>\n",
       "      <td>navsari</td>\n",
       "    </tr>\n",
       "    <tr>\n",
       "      <th>6</th>\n",
       "      <td>11</td>\n",
       "      <td>jamna</td>\n",
       "      <td>hr</td>\n",
       "      <td>5000</td>\n",
       "      <td>bharuch</td>\n",
       "    </tr>\n",
       "    <tr>\n",
       "      <th>7</th>\n",
       "      <td>13</td>\n",
       "      <td>lila</td>\n",
       "      <td>hr</td>\n",
       "      <td>11000</td>\n",
       "      <td>vadodra</td>\n",
       "    </tr>\n",
       "    <tr>\n",
       "      <th>8</th>\n",
       "      <td>4</td>\n",
       "      <td>krishna</td>\n",
       "      <td>inventory</td>\n",
       "      <td>7000</td>\n",
       "      <td>chennai</td>\n",
       "    </tr>\n",
       "    <tr>\n",
       "      <th>9</th>\n",
       "      <td>9</td>\n",
       "      <td>prathna</td>\n",
       "      <td>inventory</td>\n",
       "      <td>9900</td>\n",
       "      <td>bilimora</td>\n",
       "    </tr>\n",
       "    <tr>\n",
       "      <th>10</th>\n",
       "      <td>1</td>\n",
       "      <td>keshav</td>\n",
       "      <td>it</td>\n",
       "      <td>6000</td>\n",
       "      <td>surat</td>\n",
       "    </tr>\n",
       "    <tr>\n",
       "      <th>11</th>\n",
       "      <td>5</td>\n",
       "      <td>radha</td>\n",
       "      <td>it</td>\n",
       "      <td>5600</td>\n",
       "      <td>ahemdabad</td>\n",
       "    </tr>\n",
       "    <tr>\n",
       "      <th>12</th>\n",
       "      <td>7</td>\n",
       "      <td>radha</td>\n",
       "      <td>it</td>\n",
       "      <td>11000</td>\n",
       "      <td>delhi</td>\n",
       "    </tr>\n",
       "    <tr>\n",
       "      <th>13</th>\n",
       "      <td>14</td>\n",
       "      <td>jal</td>\n",
       "      <td>it</td>\n",
       "      <td>7800</td>\n",
       "      <td>vapi</td>\n",
       "    </tr>\n",
       "    <tr>\n",
       "      <th>14</th>\n",
       "      <td>15</td>\n",
       "      <td>kinjal</td>\n",
       "      <td>it</td>\n",
       "      <td>20000</td>\n",
       "      <td>surat</td>\n",
       "    </tr>\n",
       "  </tbody>\n",
       "</table>\n",
       "</div>"
      ],
      "text/plain": [
       "     0        1          2      3          4\n",
       "0    2   madhav    account   4000    bardoli\n",
       "1   10     gopi    account   4000       vapi\n",
       "2   12    kisha    account   3900  ahemdabad\n",
       "3    3    krish         hr   6200     bombay\n",
       "4    6     kunj         hr   9000    navsari\n",
       "5    8     kunj         hr   9000    navsari\n",
       "6   11    jamna         hr   5000    bharuch\n",
       "7   13     lila         hr  11000    vadodra\n",
       "8    4  krishna  inventory   7000    chennai\n",
       "9    9  prathna  inventory   9900   bilimora\n",
       "10   1   keshav         it   6000      surat\n",
       "11   5    radha         it   5600  ahemdabad\n",
       "12   7    radha         it  11000      delhi\n",
       "13  14      jal         it   7800       vapi\n",
       "14  15   kinjal         it  20000      surat"
      ]
     },
     "execution_count": 74,
     "metadata": {},
     "output_type": "execute_result"
    }
   ],
   "source": [
    "pd.DataFrame(cur.fetchall())"
   ]
  },
  {
   "cell_type": "code",
   "execution_count": 75,
   "id": "305b12ea",
   "metadata": {},
   "outputs": [],
   "source": [
    "q3=\"select * from employee6 where basic>6000\""
   ]
  },
  {
   "cell_type": "code",
   "execution_count": 76,
   "id": "013ba7e5",
   "metadata": {},
   "outputs": [
    {
     "data": {
      "text/plain": [
       "<sqlite3.Cursor at 0x2ad51411ac0>"
      ]
     },
     "execution_count": 76,
     "metadata": {},
     "output_type": "execute_result"
    }
   ],
   "source": [
    "cur.execute(q3)"
   ]
  },
  {
   "cell_type": "code",
   "execution_count": 77,
   "id": "9d84eb94",
   "metadata": {},
   "outputs": [
    {
     "data": {
      "text/html": [
       "<div>\n",
       "<style scoped>\n",
       "    .dataframe tbody tr th:only-of-type {\n",
       "        vertical-align: middle;\n",
       "    }\n",
       "\n",
       "    .dataframe tbody tr th {\n",
       "        vertical-align: top;\n",
       "    }\n",
       "\n",
       "    .dataframe thead th {\n",
       "        text-align: right;\n",
       "    }\n",
       "</style>\n",
       "<table border=\"1\" class=\"dataframe\">\n",
       "  <thead>\n",
       "    <tr style=\"text-align: right;\">\n",
       "      <th></th>\n",
       "      <th>0</th>\n",
       "      <th>1</th>\n",
       "      <th>2</th>\n",
       "      <th>3</th>\n",
       "      <th>4</th>\n",
       "    </tr>\n",
       "  </thead>\n",
       "  <tbody>\n",
       "    <tr>\n",
       "      <th>0</th>\n",
       "      <td>3</td>\n",
       "      <td>krish</td>\n",
       "      <td>hr</td>\n",
       "      <td>6200</td>\n",
       "      <td>bombay</td>\n",
       "    </tr>\n",
       "    <tr>\n",
       "      <th>1</th>\n",
       "      <td>4</td>\n",
       "      <td>krishna</td>\n",
       "      <td>inventory</td>\n",
       "      <td>7000</td>\n",
       "      <td>chennai</td>\n",
       "    </tr>\n",
       "    <tr>\n",
       "      <th>2</th>\n",
       "      <td>6</td>\n",
       "      <td>kunj</td>\n",
       "      <td>hr</td>\n",
       "      <td>9000</td>\n",
       "      <td>navsari</td>\n",
       "    </tr>\n",
       "    <tr>\n",
       "      <th>3</th>\n",
       "      <td>7</td>\n",
       "      <td>radha</td>\n",
       "      <td>it</td>\n",
       "      <td>11000</td>\n",
       "      <td>delhi</td>\n",
       "    </tr>\n",
       "    <tr>\n",
       "      <th>4</th>\n",
       "      <td>8</td>\n",
       "      <td>kunj</td>\n",
       "      <td>hr</td>\n",
       "      <td>9000</td>\n",
       "      <td>navsari</td>\n",
       "    </tr>\n",
       "    <tr>\n",
       "      <th>5</th>\n",
       "      <td>9</td>\n",
       "      <td>prathna</td>\n",
       "      <td>inventory</td>\n",
       "      <td>9900</td>\n",
       "      <td>bilimora</td>\n",
       "    </tr>\n",
       "    <tr>\n",
       "      <th>6</th>\n",
       "      <td>13</td>\n",
       "      <td>lila</td>\n",
       "      <td>hr</td>\n",
       "      <td>11000</td>\n",
       "      <td>vadodra</td>\n",
       "    </tr>\n",
       "    <tr>\n",
       "      <th>7</th>\n",
       "      <td>14</td>\n",
       "      <td>jal</td>\n",
       "      <td>it</td>\n",
       "      <td>7800</td>\n",
       "      <td>vapi</td>\n",
       "    </tr>\n",
       "    <tr>\n",
       "      <th>8</th>\n",
       "      <td>15</td>\n",
       "      <td>kinjal</td>\n",
       "      <td>it</td>\n",
       "      <td>20000</td>\n",
       "      <td>surat</td>\n",
       "    </tr>\n",
       "  </tbody>\n",
       "</table>\n",
       "</div>"
      ],
      "text/plain": [
       "    0        1          2      3         4\n",
       "0   3    krish         hr   6200    bombay\n",
       "1   4  krishna  inventory   7000   chennai\n",
       "2   6     kunj         hr   9000   navsari\n",
       "3   7    radha         it  11000     delhi\n",
       "4   8     kunj         hr   9000   navsari\n",
       "5   9  prathna  inventory   9900  bilimora\n",
       "6  13     lila         hr  11000   vadodra\n",
       "7  14      jal         it   7800      vapi\n",
       "8  15   kinjal         it  20000     surat"
      ]
     },
     "execution_count": 77,
     "metadata": {},
     "output_type": "execute_result"
    }
   ],
   "source": [
    "pd.DataFrame(cur.fetchall())"
   ]
  },
  {
   "cell_type": "code",
   "execution_count": 81,
   "id": "54b82cf0",
   "metadata": {},
   "outputs": [],
   "source": [
    "q4=\"select * from employee6 where name LIKE '_r%'\""
   ]
  },
  {
   "cell_type": "code",
   "execution_count": 82,
   "id": "af068cea",
   "metadata": {},
   "outputs": [
    {
     "data": {
      "text/plain": [
       "<sqlite3.Cursor at 0x2ad51411ac0>"
      ]
     },
     "execution_count": 82,
     "metadata": {},
     "output_type": "execute_result"
    }
   ],
   "source": [
    "cur.execute(q4)"
   ]
  },
  {
   "cell_type": "code",
   "execution_count": 83,
   "id": "962359cb",
   "metadata": {},
   "outputs": [
    {
     "data": {
      "text/html": [
       "<div>\n",
       "<style scoped>\n",
       "    .dataframe tbody tr th:only-of-type {\n",
       "        vertical-align: middle;\n",
       "    }\n",
       "\n",
       "    .dataframe tbody tr th {\n",
       "        vertical-align: top;\n",
       "    }\n",
       "\n",
       "    .dataframe thead th {\n",
       "        text-align: right;\n",
       "    }\n",
       "</style>\n",
       "<table border=\"1\" class=\"dataframe\">\n",
       "  <thead>\n",
       "    <tr style=\"text-align: right;\">\n",
       "      <th></th>\n",
       "      <th>0</th>\n",
       "      <th>1</th>\n",
       "      <th>2</th>\n",
       "      <th>3</th>\n",
       "      <th>4</th>\n",
       "    </tr>\n",
       "  </thead>\n",
       "  <tbody>\n",
       "    <tr>\n",
       "      <th>0</th>\n",
       "      <td>3</td>\n",
       "      <td>krish</td>\n",
       "      <td>hr</td>\n",
       "      <td>6200</td>\n",
       "      <td>bombay</td>\n",
       "    </tr>\n",
       "    <tr>\n",
       "      <th>1</th>\n",
       "      <td>4</td>\n",
       "      <td>krishna</td>\n",
       "      <td>inventory</td>\n",
       "      <td>7000</td>\n",
       "      <td>chennai</td>\n",
       "    </tr>\n",
       "    <tr>\n",
       "      <th>2</th>\n",
       "      <td>9</td>\n",
       "      <td>prathna</td>\n",
       "      <td>inventory</td>\n",
       "      <td>9900</td>\n",
       "      <td>bilimora</td>\n",
       "    </tr>\n",
       "  </tbody>\n",
       "</table>\n",
       "</div>"
      ],
      "text/plain": [
       "   0        1          2     3         4\n",
       "0  3    krish         hr  6200    bombay\n",
       "1  4  krishna  inventory  7000   chennai\n",
       "2  9  prathna  inventory  9900  bilimora"
      ]
     },
     "execution_count": 83,
     "metadata": {},
     "output_type": "execute_result"
    }
   ],
   "source": [
    "pd.DataFrame(cur.fetchall())"
   ]
  },
  {
   "cell_type": "code",
   "execution_count": 85,
   "id": "1cfc8380",
   "metadata": {},
   "outputs": [],
   "source": [
    "conn.commit()"
   ]
  },
  {
   "cell_type": "code",
   "execution_count": 88,
   "id": "e3ab0c25",
   "metadata": {},
   "outputs": [],
   "source": [
    "q6=\"select dept ,count(*)from employee6 group by dept having dept IN('account','inventory')\""
   ]
  },
  {
   "cell_type": "code",
   "execution_count": 89,
   "id": "d3e85bc3",
   "metadata": {},
   "outputs": [
    {
     "data": {
      "text/plain": [
       "<sqlite3.Cursor at 0x2ad51411ac0>"
      ]
     },
     "execution_count": 89,
     "metadata": {},
     "output_type": "execute_result"
    }
   ],
   "source": [
    "cur.execute(q6)"
   ]
  },
  {
   "cell_type": "code",
   "execution_count": 90,
   "id": "400259be",
   "metadata": {},
   "outputs": [
    {
     "data": {
      "text/html": [
       "<div>\n",
       "<style scoped>\n",
       "    .dataframe tbody tr th:only-of-type {\n",
       "        vertical-align: middle;\n",
       "    }\n",
       "\n",
       "    .dataframe tbody tr th {\n",
       "        vertical-align: top;\n",
       "    }\n",
       "\n",
       "    .dataframe thead th {\n",
       "        text-align: right;\n",
       "    }\n",
       "</style>\n",
       "<table border=\"1\" class=\"dataframe\">\n",
       "  <thead>\n",
       "    <tr style=\"text-align: right;\">\n",
       "      <th></th>\n",
       "      <th>0</th>\n",
       "      <th>1</th>\n",
       "    </tr>\n",
       "  </thead>\n",
       "  <tbody>\n",
       "    <tr>\n",
       "      <th>0</th>\n",
       "      <td>account</td>\n",
       "      <td>3</td>\n",
       "    </tr>\n",
       "    <tr>\n",
       "      <th>1</th>\n",
       "      <td>inventory</td>\n",
       "      <td>2</td>\n",
       "    </tr>\n",
       "  </tbody>\n",
       "</table>\n",
       "</div>"
      ],
      "text/plain": [
       "           0  1\n",
       "0    account  3\n",
       "1  inventory  2"
      ]
     },
     "execution_count": 90,
     "metadata": {},
     "output_type": "execute_result"
    }
   ],
   "source": [
    "pd.DataFrame(cur.fetchall())"
   ]
  },
  {
   "cell_type": "code",
   "execution_count": 92,
   "id": "c0d7e15b",
   "metadata": {},
   "outputs": [],
   "source": [
    "conn.commit()"
   ]
  },
  {
   "cell_type": "code",
   "execution_count": 95,
   "id": "8c981994",
   "metadata": {},
   "outputs": [],
   "source": [
    "q7=\"select * from employee6 order by branch DESC\""
   ]
  },
  {
   "cell_type": "code",
   "execution_count": 96,
   "id": "c2da6145",
   "metadata": {},
   "outputs": [
    {
     "data": {
      "text/plain": [
       "<sqlite3.Cursor at 0x2ad51411ac0>"
      ]
     },
     "execution_count": 96,
     "metadata": {},
     "output_type": "execute_result"
    }
   ],
   "source": [
    "cur.execute(q7)"
   ]
  },
  {
   "cell_type": "code",
   "execution_count": 97,
   "id": "03b4a368",
   "metadata": {},
   "outputs": [
    {
     "data": {
      "text/html": [
       "<div>\n",
       "<style scoped>\n",
       "    .dataframe tbody tr th:only-of-type {\n",
       "        vertical-align: middle;\n",
       "    }\n",
       "\n",
       "    .dataframe tbody tr th {\n",
       "        vertical-align: top;\n",
       "    }\n",
       "\n",
       "    .dataframe thead th {\n",
       "        text-align: right;\n",
       "    }\n",
       "</style>\n",
       "<table border=\"1\" class=\"dataframe\">\n",
       "  <thead>\n",
       "    <tr style=\"text-align: right;\">\n",
       "      <th></th>\n",
       "      <th>0</th>\n",
       "      <th>1</th>\n",
       "      <th>2</th>\n",
       "      <th>3</th>\n",
       "      <th>4</th>\n",
       "    </tr>\n",
       "  </thead>\n",
       "  <tbody>\n",
       "    <tr>\n",
       "      <th>0</th>\n",
       "      <td>10</td>\n",
       "      <td>gopi</td>\n",
       "      <td>account</td>\n",
       "      <td>4000</td>\n",
       "      <td>vapi</td>\n",
       "    </tr>\n",
       "    <tr>\n",
       "      <th>1</th>\n",
       "      <td>14</td>\n",
       "      <td>jal</td>\n",
       "      <td>it</td>\n",
       "      <td>7800</td>\n",
       "      <td>vapi</td>\n",
       "    </tr>\n",
       "    <tr>\n",
       "      <th>2</th>\n",
       "      <td>13</td>\n",
       "      <td>lila</td>\n",
       "      <td>hr</td>\n",
       "      <td>11000</td>\n",
       "      <td>vadodra</td>\n",
       "    </tr>\n",
       "    <tr>\n",
       "      <th>3</th>\n",
       "      <td>1</td>\n",
       "      <td>keshav</td>\n",
       "      <td>it</td>\n",
       "      <td>6000</td>\n",
       "      <td>surat</td>\n",
       "    </tr>\n",
       "    <tr>\n",
       "      <th>4</th>\n",
       "      <td>15</td>\n",
       "      <td>kinjal</td>\n",
       "      <td>it</td>\n",
       "      <td>20000</td>\n",
       "      <td>surat</td>\n",
       "    </tr>\n",
       "    <tr>\n",
       "      <th>5</th>\n",
       "      <td>6</td>\n",
       "      <td>kunj</td>\n",
       "      <td>hr</td>\n",
       "      <td>9000</td>\n",
       "      <td>navsari</td>\n",
       "    </tr>\n",
       "    <tr>\n",
       "      <th>6</th>\n",
       "      <td>8</td>\n",
       "      <td>kunj</td>\n",
       "      <td>hr</td>\n",
       "      <td>9000</td>\n",
       "      <td>navsari</td>\n",
       "    </tr>\n",
       "    <tr>\n",
       "      <th>7</th>\n",
       "      <td>7</td>\n",
       "      <td>radha</td>\n",
       "      <td>it</td>\n",
       "      <td>11000</td>\n",
       "      <td>delhi</td>\n",
       "    </tr>\n",
       "    <tr>\n",
       "      <th>8</th>\n",
       "      <td>4</td>\n",
       "      <td>krishna</td>\n",
       "      <td>inventory</td>\n",
       "      <td>7000</td>\n",
       "      <td>chennai</td>\n",
       "    </tr>\n",
       "    <tr>\n",
       "      <th>9</th>\n",
       "      <td>3</td>\n",
       "      <td>krish</td>\n",
       "      <td>hr</td>\n",
       "      <td>6200</td>\n",
       "      <td>bombay</td>\n",
       "    </tr>\n",
       "    <tr>\n",
       "      <th>10</th>\n",
       "      <td>9</td>\n",
       "      <td>prathna</td>\n",
       "      <td>inventory</td>\n",
       "      <td>9900</td>\n",
       "      <td>bilimora</td>\n",
       "    </tr>\n",
       "    <tr>\n",
       "      <th>11</th>\n",
       "      <td>11</td>\n",
       "      <td>jamna</td>\n",
       "      <td>hr</td>\n",
       "      <td>5000</td>\n",
       "      <td>bharuch</td>\n",
       "    </tr>\n",
       "    <tr>\n",
       "      <th>12</th>\n",
       "      <td>2</td>\n",
       "      <td>madhav</td>\n",
       "      <td>account</td>\n",
       "      <td>4000</td>\n",
       "      <td>bardoli</td>\n",
       "    </tr>\n",
       "    <tr>\n",
       "      <th>13</th>\n",
       "      <td>5</td>\n",
       "      <td>radha</td>\n",
       "      <td>it</td>\n",
       "      <td>5600</td>\n",
       "      <td>ahemdabad</td>\n",
       "    </tr>\n",
       "    <tr>\n",
       "      <th>14</th>\n",
       "      <td>12</td>\n",
       "      <td>kisha</td>\n",
       "      <td>account</td>\n",
       "      <td>3900</td>\n",
       "      <td>ahemdabad</td>\n",
       "    </tr>\n",
       "  </tbody>\n",
       "</table>\n",
       "</div>"
      ],
      "text/plain": [
       "     0        1          2      3          4\n",
       "0   10     gopi    account   4000       vapi\n",
       "1   14      jal         it   7800       vapi\n",
       "2   13     lila         hr  11000    vadodra\n",
       "3    1   keshav         it   6000      surat\n",
       "4   15   kinjal         it  20000      surat\n",
       "5    6     kunj         hr   9000    navsari\n",
       "6    8     kunj         hr   9000    navsari\n",
       "7    7    radha         it  11000      delhi\n",
       "8    4  krishna  inventory   7000    chennai\n",
       "9    3    krish         hr   6200     bombay\n",
       "10   9  prathna  inventory   9900   bilimora\n",
       "11  11    jamna         hr   5000    bharuch\n",
       "12   2   madhav    account   4000    bardoli\n",
       "13   5    radha         it   5600  ahemdabad\n",
       "14  12    kisha    account   3900  ahemdabad"
      ]
     },
     "execution_count": 97,
     "metadata": {},
     "output_type": "execute_result"
    }
   ],
   "source": [
    "pd.DataFrame(cur.fetchall())"
   ]
  },
  {
   "cell_type": "code",
   "execution_count": 99,
   "id": "92abce4d",
   "metadata": {},
   "outputs": [],
   "source": [
    "conn.commit()"
   ]
  },
  {
   "cell_type": "code",
   "execution_count": 100,
   "id": "df46d429",
   "metadata": {},
   "outputs": [],
   "source": [
    "conn.close()"
   ]
  }
 ],
 "metadata": {
  "kernelspec": {
   "display_name": "Python 3 (ipykernel)",
   "language": "python",
   "name": "python3"
  },
  "language_info": {
   "codemirror_mode": {
    "name": "ipython",
    "version": 3
   },
   "file_extension": ".py",
   "mimetype": "text/x-python",
   "name": "python",
   "nbconvert_exporter": "python",
   "pygments_lexer": "ipython3",
   "version": "3.11.3"
  }
 },
 "nbformat": 4,
 "nbformat_minor": 5
}
